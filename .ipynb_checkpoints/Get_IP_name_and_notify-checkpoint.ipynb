{
 "cells": [
  {
   "cell_type": "code",
   "execution_count": null,
   "metadata": {},
   "outputs": [],
   "source": [
    "#This simple .py parse all the ip_s on my network\n",
    "#get the name using nmap and socket\n",
    "#And notify about me getting home \n",
    "#This can still be improved using MAC Adress instead of IP\n",
    "# @Aissa 27/07/2020"
   ]
  },
  {
   "cell_type": "code",
   "execution_count": 64,
   "metadata": {},
   "outputs": [
    {
     "data": {
      "text/plain": [
       "'192.168.1.42/24'"
      ]
     },
     "execution_count": 64,
     "metadata": {},
     "output_type": "execute_result"
    }
   ],
   "source": [
    "import socket\n",
    "ip = socket.gethostbyname(socket.gethostname())\n",
    "ip = ip+'/24'\n",
    "ip"
   ]
  },
  {
   "cell_type": "code",
   "execution_count": 65,
   "metadata": {},
   "outputs": [
    {
     "name": "stdout",
     "output_type": "stream",
     "text": [
      "192.168.1.254:up:bbox.lan\n",
      "192.168.1.42:up:macbook-pro\n",
      "192.168.1.43:up:mb062309s\n",
      "192.168.1.63:up:huawei_y7_2018-daa4e3b3b5\n"
     ]
    }
   ],
   "source": [
    "import nmap\n",
    "\n",
    "nm = nmap.PortScanner()\n",
    "nm.scan(hosts=ip, arguments='-n -sP -PE -PA21,23,80,3389')\n",
    "devices_name = []\n",
    "hosts_list = [(x, nm[x]['status']['state'],socket.gethostbyaddr(x)[0]) for x in nm.all_hosts() if socket.gethostbyaddr(x)[0]]\n",
    "for host, status,name in hosts_list:\n",
    "        print('{0}:{1}:{2}'.format(host, status,name))\n",
    "        devices_name.append(name)\n",
    "        "
   ]
  },
  {
   "cell_type": "code",
   "execution_count": 66,
   "metadata": {},
   "outputs": [],
   "source": [
    "import subprocess\n",
    "device_name ='huawei_y7_2018-daa4e3b3b5'\n",
    "def getting_home(device_name) : \n",
    "    for name in devices_name :\n",
    "        if name == 'huawei_y7_2018-daa4e3b3b5' :\n",
    "              subprocess.Popen([\"say\", \"Aissa vient de rentrer à la maison\"])"
   ]
  }
 ],
 "metadata": {
  "kernelspec": {
   "display_name": "Python 3",
   "language": "python",
   "name": "python3"
  },
  "language_info": {
   "codemirror_mode": {
    "name": "ipython",
    "version": 3
   },
   "file_extension": ".py",
   "mimetype": "text/x-python",
   "name": "python",
   "nbconvert_exporter": "python",
   "pygments_lexer": "ipython3",
   "version": "3.7.6"
  }
 },
 "nbformat": 4,
 "nbformat_minor": 4
}
