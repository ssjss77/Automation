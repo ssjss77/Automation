{
 "cells": [
  {
   "cell_type": "markdown",
   "metadata": {},
   "source": [
    "# Permet d'automatiser l'accès à son compte instagram à l'aide de safari\n",
    "NB : il faut installer safari driver et le placer au bon endroit avant de compiler le code\n",
    "Et autoriser l'automatisation à distance sur Mac"
   ]
  },
  {
   "cell_type": "code",
   "execution_count": null,
   "metadata": {},
   "outputs": [],
   "source": [
    "#@Aissa le 30/07/2020\n",
    "\n",
    "#Importer les bibliothèques\n",
    "from selenium import webdriver\n",
    "from selenium.webdriver.common.keys import Keys\n",
    "from time import sleep, strftime\n",
    "from random import randint\n",
    "import pandas as pd"
   ]
  },
  {
   "cell_type": "code",
   "execution_count": 25,
   "metadata": {
    "scrolled": true
   },
   "outputs": [],
   "source": [
    "\n",
    "def open_login(username_,pwd_,hashtag) : \n",
    "\n",
    "    wd = webdriver.Safari(executable_path = '/usr/bin/safaridriver')\n",
    "    sleep(2)\n",
    "    wd.get('https://www.instagram.com/accounts/login/?source=auth_switcher')\n",
    "    sleep(3)\n",
    "\n",
    "    username = wd.find_element_by_name('username')\n",
    "    username.send_keys(username_)\n",
    "\n",
    "    password = wd.find_element_by_name('password')\n",
    "    password.send_keys(pwd_)\n",
    "\n",
    "    button_login = wd.find_element_by_xpath('//*[@id=\"react-root\"]/section/main/div/article/div/div[1]/div/form/div[4]/button').click()\n",
    "    sleep(3)\n",
    "\n",
    "    button_later = wd.find_element_by_xpath('//*[@id=\"react-root\"]/section/main/div/div/div/div/button').click()\n",
    "    sleep(2)\n",
    "\n",
    "    wd.get('https://www.instagram.com/explore/tags/'+hashtag+'/')\n",
    "    sleep(10)\n",
    "\n",
    "    return \n",
    "\n",
    "\n",
    "\n"
   ]
  },
  {
   "cell_type": "code",
   "execution_count": 26,
   "metadata": {},
   "outputs": [],
   "source": [
    "open_login('your_username','your_password','hashtag')"
   ]
  }
 ],
 "metadata": {
  "kernelspec": {
   "display_name": "Python 3",
   "language": "python",
   "name": "python3"
  },
  "language_info": {
   "codemirror_mode": {
    "name": "ipython",
    "version": 3
   },
   "file_extension": ".py",
   "mimetype": "text/x-python",
   "name": "python",
   "nbconvert_exporter": "python",
   "pygments_lexer": "ipython3",
   "version": "3.7.6"
  }
 },
 "nbformat": 4,
 "nbformat_minor": 4
}
